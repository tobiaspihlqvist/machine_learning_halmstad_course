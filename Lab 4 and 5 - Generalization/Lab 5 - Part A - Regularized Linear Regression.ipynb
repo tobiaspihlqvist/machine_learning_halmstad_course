{
 "cells": [
  {
   "cell_type": "markdown",
   "metadata": {},
   "source": [
    "# Lab 4 (Part A): Regularized Linear Regression\n",
    "\n",
    "In this Lab, you will implement regularized linear regression and use it to study models with different bias-variance properties. Make sure that you check the videos of lecture 5 before starting this Lab:\n",
    "- Overfitting, Generalization, and Regularization: https://youtu.be/-zVe8upJMDU\n",
    "\n",
    "In this part of the Lab, you will first implement regularized linear regression to predict the amount of water owing out of a dam using the change of water level in a reservoir. Then, you will examine the effects of bias vs. variance.\n",
    "\n",
    "## Loading the data\n",
    "We have a file `water-level-dataset.mat` which contains the dataset for our linear regression problem. The `.mat` file can be loaded in Python using `scipy.io.loadmat(..)` which returns a dictionary that contains 6 arrays. The follwing Python code load these arrays into the variables: `X`, `y`, `Xtest`, `ytest`, `Xval`, `yval`. So, our data is divided into three parts:\n",
    "- A training set that your model will learn on: `X`, `y`\n",
    "- A cross validation set for determining the regularization parameter: `Xval`, `yval`\n",
    "- A test set for evaluating performance. These are *unseen* examples which your model did not see during training: `Xtest`, `ytest`.\n",
    "\n",
    "Read the following code and print a small subset of these arrays to see what they look like."
   ]
  },
  {
   "cell_type": "code",
   "execution_count": 118,
   "metadata": {},
   "outputs": [
    {
     "name": "stdout",
     "output_type": "stream",
     "text": [
      "[[-15.93675813]\n",
      " [-29.15297922]\n",
      " [ 36.18954863]\n",
      " [ 37.49218733]\n",
      " [-48.05882945]]\n",
      "[ 2.13431051  1.17325668 34.35910918 36.83795516  2.80896507]\n",
      "[[-16.74653578]\n",
      " [-14.57747075]\n",
      " [ 34.51575866]\n",
      " [-47.01007574]\n",
      " [ 36.97511905]]\n",
      "[ 4.17020201  4.0672628  31.87306758 10.62365619 31.83602128]\n",
      "[[-33.31800399]\n",
      " [-37.91216403]\n",
      " [-51.20693795]\n",
      " [ -6.13259585]\n",
      " [ 21.26118327]]\n",
      "[ 3.31688953  5.39768952  0.13042984  6.1925982  17.08848712]\n"
     ]
    }
   ],
   "source": [
    "%matplotlib notebook\n",
    "%matplotlib inline\n",
    "from scipy.io import loadmat\n",
    "\n",
    "mat = loadmat(\"datasets/water-level-dataset.mat\")\n",
    "# X and y correspond to a training set that your model will learn on.\n",
    "X = mat[\"X\"]\n",
    "y = mat[\"y\"].reshape(len(X))\n",
    "\n",
    "# Xval and yval correspond to a cross validation set for determining the regularization parameter.\n",
    "Xval = mat[\"Xval\"]\n",
    "yval = mat[\"yval\"].reshape(len(Xval))\n",
    "\n",
    "# Xtest and ytest correspond to a test set for evaluating performance. These \n",
    "# are unseen examples which your model will not see during training\n",
    "Xtest = mat[\"Xtest\"]\n",
    "ytest = mat[\"ytest\"].reshape(len(Xtest))\n",
    "\n",
    "\"\"\" TODO:\n",
    "You can print here a small subset of X, y, Xtest, ytest, Xval and Xval to see what they look like.\n",
    "\"\"\"\n",
    "# ...\n",
    "print(X[:5])\n",
    "print(y[:5])\n",
    "print(Xval[:5])\n",
    "print(yval[:5])\n",
    "print(Xtest[:5])\n",
    "print(ytest[:5])\n"
   ]
  },
  {
   "cell_type": "markdown",
   "metadata": {},
   "source": [
    "## Visualizing the data\n",
    "We will begin by visualizing the dataset containing historical records on the change in the water level, $x$, and the amount of water owing out of the dam, $y$. Note that the input data $X$ consists of only one feature corresponding to the \"change in water level\". Produce a scatter plot showing this feature vs. the output corresponding to the \"water flowing out of the dam\". Your plot should look like the following figure:\n",
    "<img src=\"imgs/WaterDataScatterLab4A.png\" width=\"400px\" />\n"
   ]
  },
  {
   "cell_type": "code",
   "execution_count": null,
   "metadata": {},
   "outputs": [],
   "source": []
  },
  {
   "cell_type": "code",
   "execution_count": 119,
   "metadata": {},
   "outputs": [
    {
     "name": "stderr",
     "output_type": "stream",
     "text": [
      "No artists with labels found to put in legend.  Note that artists whose label start with an underscore are ignored when legend() is called with no argument.\n"
     ]
    },
    {
     "data": {
      "text/plain": [
       "Text(0, 0.5, 'Water flowing out of the dam (y)')"
      ]
     },
     "execution_count": 119,
     "metadata": {},
     "output_type": "execute_result"
    },
    {
     "data": {
      "image/png": "[encoded data removed]",
      "text/plain": [
       "<Figure size 432x288 with 1 Axes>"
      ]
     },
     "metadata": {
      "needs_background": "light"
     },
     "output_type": "display_data"
    }
   ],
   "source": [
    "import matplotlib.pylab as plt\n",
    "\n",
    "\"\"\" TODO:\n",
    "Using the training dataset X and y, produce a scatter plot showing the \"change in water level\" on \n",
    "the x-axis and the \"water flowing out of the dam\" on the y-axis, as shown in the previous figure.\n",
    "\"\"\"\n",
    "fig, ax = plt.subplots()\n",
    "\n",
    "ax.scatter(X, y, c=\"r\", marker=\"x\")\n",
    "ax.legend();\n",
    "ax.set_xlabel('Change in water level (x)')\n",
    "ax.set_ylabel('Water flowing out of the dam (y)')"
   ]
  },
  {
   "cell_type": "markdown",
   "metadata": {},
   "source": [
    "## Adding a first column of ones to the dataset\n",
    "As usual, before starting the implementation of our linear regression model, it might be helpful to use a modified version of our dataset which has an additional first column of ones."
   ]
  },
  {
   "cell_type": "code",
   "execution_count": 120,
   "metadata": {},
   "outputs": [
    {
     "name": "stdout",
     "output_type": "stream",
     "text": [
      "[[  1.         -15.93675813]\n",
      " [  1.         -29.15297922]\n",
      " [  1.          36.18954863]\n",
      " [  1.          37.49218733]\n",
      " [  1.         -48.05882945]]\n"
     ]
    }
   ],
   "source": [
    "import numpy as np\n",
    "\n",
    "# This function takes a matrix as argument and returns a new matrix with an additional first column (of ones)\n",
    "def add_all_ones_column(X):\n",
    "    n, d = X.shape # dimension of the matrix X (n lines, d columns)\n",
    "    XX = np.ones((n, d+1)) # new matrix of all ones with one additional column\n",
    "    XX[:, 1:] = X # set X starting from column 1 (keep only column 0 unchanged)\n",
    "    return XX\n",
    "\n",
    "# The following line creates a new data matrix X_new with an additional first column (of ones)\n",
    "X_new = add_all_ones_column(X) # for the training set\n",
    "Xval_new = add_all_ones_column(Xval) # for the validation set\n",
    "\n",
    "\"\"\" TODO:\n",
    "You can print a small subset of X_new here to see how it looks like \n",
    "\"\"\"\n",
    "# ...\n",
    "print(X_new[:5])\n"
   ]
  },
  {
   "cell_type": "markdown",
   "metadata": {},
   "source": [
    "## Regularized linear regression cost function\n",
    "Recall that regularized linear regression has the following cost function:\n",
    "$$E(\\theta) = \\frac{1}{2n} \\left [ \\left ( \\sum_{i=1}^{n} ( h_\\theta(x^{(i)}) - y^{(i)} )^2 \\right ) + \\lambda \\left ( \\sum_{j=1}^{d} \\theta_j^2 \\right ) \\right ],$$\n",
    "where $\\lambda$ is a regularization parameter which controls the degree of regularization (thus, help preventing overfitting). The regularization term puts a penalty on the overal cost function $E$. As the magnitudes of the model parameters $\\theta_j$ increase, the penalty increases as well. Note that you should not regularize the $\\theta_0$ term.\n",
    "\n",
    "Complete the following code to write a function to calculate the regularized linear regression cost function. If possible, try to vectorize your code and avoid writing loops. When you are finished, call your cost function using $\\theta$ initialized at `np.array([1, 1])` and $\\lambda = 1$. You should then expect to see an output of about $303.993$."
   ]
  },
  {
   "cell_type": "code",
   "execution_count": 142,
   "metadata": {},
   "outputs": [
    {
     "name": "stdout",
     "output_type": "stream",
     "text": [
      "303.9931922202643\n"
     ]
    }
   ],
   "source": [
    "\"\"\" TODO:\n",
    "Write the definition of the regularized linear regression cost function. \n",
    "If possible, try to vectorize your code and avoid writing loops. The \n",
    "last argument lmd corresponds to the regularization term lambda.\n",
    "\"\"\"\n",
    "def E(theta, X, y, lmd):\n",
    "    a = 1/(2*len(X));\n",
    "    error = np.sum(((X@theta)-y)**2)\n",
    "    r = lmd * np.sum(theta[1:]**2)\n",
    "    reguralizedError = a * (error + r);\n",
    "    return reguralizedError\n",
    "\n",
    "\n",
    "\"\"\" TODO:\n",
    "Call your cost function with theta initialized to an array of ones, and \n",
    "lambda = 1. You should expect to see an output of about 303.993.\n",
    "\"\"\"\n",
    "# ...\n",
    "theta = np.array([1,1])\n",
    "lmbda = 1;\n",
    "\n",
    "print(E(theta, X_new, y, lmbda))"
   ]
  },
  {
   "cell_type": "code",
   "execution_count": null,
   "metadata": {},
   "outputs": [],
   "source": []
  },
  {
   "cell_type": "markdown",
   "metadata": {},
   "source": [
    "## Regularized linear regression gradient\n",
    "The partial derivative of regularized linear regression's cost for $\\theta_j$ is defined as:\n",
    "$$\n",
    "\\frac{\\partial E(\\theta)}{\\partial \\theta_0} = \\frac{1}{n} \\sum_{i=1}^{n} ( h_\\theta(x^{(i)}) - y^{(i)} ) ~ x_j^{(i)}\n",
    "\\quad \\quad \\quad \\quad \\quad \\quad \\text{for } j = 0\n",
    "$$\n",
    "\n",
    "$$\n",
    "\\frac{\\partial E(\\theta)}{\\partial \\theta_j} = \\left ( \\frac{1}{n} \\sum_{i=1}^{n} ( h_\\theta(x^{(i)}) - y^{(i)} ) ~ x_j^{(i)} \\right ) + \\frac{\\lambda}{n} \\theta_j\n",
    "\\quad \\quad \\text{for } j \\geq 1\n",
    "$$\n",
    "\n",
    "Complete the definition of the function `gradE(..)` in the code below, to calculate the gradient of the cost function $\\nabla E(\\theta)$. The function must return an array of the same length as $\\theta$. When you are finished, call your gradient function using $\\theta$ initialized at `np.array([1, 1])` and $\\lambda = 1$. You should then expect to see a gradient of `[-15.30, 598.250]`."
   ]
  },
  {
   "cell_type": "code",
   "execution_count": 161,
   "metadata": {},
   "outputs": [
    {
     "ename": "ValueError",
     "evalue": "matmul: Input operand 1 has a mismatch in its core dimension 0, with gufunc signature (n?,k),(k,m?)->(n?,m?) (size 1 is different from 2)",
     "output_type": "error",
     "traceback": [
      "\u001b[1;31m---------------------------------------------------------------------------\u001b[0m",
      "\u001b[1;31mValueError\u001b[0m                                Traceback (most recent call last)",
      "\u001b[1;32mc:\\Users\\TobiasPi\\Repos\\Privat\\ML labbar\\Lab 4 and 5 - Generalization\\Lab 5 - Part A - Regularized Linear Regression.ipynb Cell 12'\u001b[0m in \u001b[0;36m<module>\u001b[1;34m\u001b[0m\n\u001b[0;32m     <a href='vscode-notebook-cell:/c%3A/Users/TobiasPi/Repos/Privat/ML%20labbar/Lab%204%20and%205%20-%20Generalization/Lab%205%20-%20Part%20A%20-%20Regularized%20Linear%20Regression.ipynb#ch0000009?line=18'>19</a>\u001b[0m lmd \u001b[39m=\u001b[39m \u001b[39m1\u001b[39m;\n\u001b[0;32m     <a href='vscode-notebook-cell:/c%3A/Users/TobiasPi/Repos/Privat/ML%20labbar/Lab%204%20and%205%20-%20Generalization/Lab%205%20-%20Part%20A%20-%20Regularized%20Linear%20Regression.ipynb#ch0000009?line=19'>20</a>\u001b[0m theta \u001b[39m=\u001b[39m np\u001b[39m.\u001b[39marray([\u001b[39m1\u001b[39m,\u001b[39m1\u001b[39m])\n\u001b[1;32m---> <a href='vscode-notebook-cell:/c%3A/Users/TobiasPi/Repos/Privat/ML%20labbar/Lab%204%20and%205%20-%20Generalization/Lab%205%20-%20Part%20A%20-%20Regularized%20Linear%20Regression.ipynb#ch0000009?line=20'>21</a>\u001b[0m \u001b[39mprint\u001b[39m( gradE(theta, X_new, y, lmd) )\n",
      "\u001b[1;32mc:\\Users\\TobiasPi\\Repos\\Privat\\ML labbar\\Lab 4 and 5 - Generalization\\Lab 5 - Part A - Regularized Linear Regression.ipynb Cell 12'\u001b[0m in \u001b[0;36mgradE\u001b[1;34m(theta, X, y, lmd)\u001b[0m\n\u001b[0;32m      <a href='vscode-notebook-cell:/c%3A/Users/TobiasPi/Repos/Privat/ML%20labbar/Lab%204%20and%205%20-%20Generalization/Lab%205%20-%20Part%20A%20-%20Regularized%20Linear%20Regression.ipynb#ch0000009?line=5'>6</a>\u001b[0m a \u001b[39m=\u001b[39m \u001b[39m1\u001b[39m\u001b[39m/\u001b[39m(\u001b[39mlen\u001b[39m(X)) \u001b[39m*\u001b[39m (np\u001b[39m.\u001b[39msum((X\u001b[39m@theta\u001b[39m)\u001b[39m-\u001b[39my)\u001b[39m*\u001b[39mX[\u001b[39m0\u001b[39m]);\n\u001b[0;32m      <a href='vscode-notebook-cell:/c%3A/Users/TobiasPi/Repos/Privat/ML%20labbar/Lab%204%20and%205%20-%20Generalization/Lab%205%20-%20Part%20A%20-%20Regularized%20Linear%20Regression.ipynb#ch0000009?line=8'>9</a>\u001b[0m b \u001b[39m=\u001b[39m (\u001b[39m1\u001b[39m\u001b[39m/\u001b[39m(\u001b[39mlen\u001b[39m(X)) \u001b[39m*\u001b[39m (np\u001b[39m.\u001b[39msum(((X\u001b[39m@theta\u001b[39m)\u001b[39m-\u001b[39my\u001b[39m*\u001b[39mtheta[\u001b[39m1\u001b[39m:])))) \u001b[39m+\u001b[39m (lmd\u001b[39m/\u001b[39m\u001b[39mlen\u001b[39m(X)) \u001b[39m*\u001b[39mtheta[\u001b[39m1\u001b[39m:]\n\u001b[1;32m---> <a href='vscode-notebook-cell:/c%3A/Users/TobiasPi/Repos/Privat/ML%20labbar/Lab%204%20and%205%20-%20Generalization/Lab%205%20-%20Part%20A%20-%20Regularized%20Linear%20Regression.ipynb#ch0000009?line=9'>10</a>\u001b[0m \u001b[39mprint\u001b[39m(a \u001b[39m@\u001b[39;49m b)\n\u001b[0;32m     <a href='vscode-notebook-cell:/c%3A/Users/TobiasPi/Repos/Privat/ML%20labbar/Lab%204%20and%205%20-%20Generalization/Lab%205%20-%20Part%20A%20-%20Regularized%20Linear%20Regression.ipynb#ch0000009?line=10'>11</a>\u001b[0m \u001b[39mreturn\u001b[39;00m \u001b[39m\"\u001b[39m\u001b[39m\"\u001b[39m\n",
      "\u001b[1;31mValueError\u001b[0m: matmul: Input operand 1 has a mismatch in its core dimension 0, with gufunc signature (n?,k),(k,m?)->(n?,m?) (size 1 is different from 2)"
     ]
    }
   ],
   "source": [
    "\"\"\" TODO:\n",
    "Write the definition of the gradient function. It should return an array containing \n",
    "the derivative of the cost function with respect to each parameter theta[j].\n",
    "\"\"\"\n",
    "def gradE(theta, X, y, lmd):\n",
    "    a = 1/(len(X)) * (np.sum((X@theta)-y)*X[0]);\n",
    "    \n",
    "\n",
    "    b = (1/(len(X)) * (np.sum(((X@theta)-y*theta[1:])))) + (lmd/len(X)) *theta[1:]\n",
    "    print(a * b)\n",
    "    return \"\"\n",
    "\n",
    "\n",
    "\"\"\" TODO:\n",
    "Call your gradient function with theta initialized to an array of ones, and \n",
    "lambda = 1. You should expect to see a gradient of approximatly [-15.30  598.250].\n",
    "\"\"\"\n",
    "# ...\n",
    "lmd = 1;\n",
    "theta = np.array([1,1])\n",
    "print( gradE(theta, X_new, y, lmd) )"
   ]
  },
  {
   "cell_type": "markdown",
   "metadata": {},
   "source": [
    "## Fitting linear regression\n",
    "Once your cost function and gradient are working correctly, the following code will help you to compute the optimal values of $\\theta$. We use `scipy.optimize.minimize(..)` to optimize the cost function.\n",
    "\n",
    "In this part, we set the regularization parameter $\\lambda$ to zero. Because our current implementation of linear regression is trying to fit a 2-dimensional $\\theta$, regularization will not be incredibly helpful for a $\\theta$ of such low dimension. In the later sections of this Lab, you will be using polynomial regression with regularization.\n",
    "\n",
    "For more information about `scipy.optimize.minimize(..)`, you can visit:\n",
    "- https://docs.scipy.org/doc/scipy/reference/generated/scipy.optimize.minimize.html#scipy.optimize.minimize\n",
    "- https://docs.scipy.org/doc/scipy/reference/optimize.html"
   ]
  },
  {
   "cell_type": "code",
   "execution_count": 123,
   "metadata": {},
   "outputs": [
    {
     "name": "stdout",
     "output_type": "stream",
     "text": [
      "Initial cost:  140.95412088055392\n"
     ]
    },
    {
     "data": {
      "text/plain": [
       "' TODO:\\nUse op.minimize(..) to minimize the cost function E. Then, print the \\noptimal parameter vector theta and the final cost.\\n'"
      ]
     },
     "execution_count": 123,
     "metadata": {},
     "output_type": "execute_result"
    }
   ],
   "source": [
    "import scipy.optimize as op\n",
    "\n",
    "theta = np.array([0, 0])  # Some initial parameters vector\n",
    "lmd = 0 # We set lambda to zero this time.\n",
    "print(\"Initial cost: \", E(theta, X_new, y, lmd))\n",
    "\n",
    "\n",
    "\"\"\" TODO:\n",
    "Use op.minimize(..) to minimize the cost function E. Then, print the \n",
    "optimal parameter vector theta and the final cost.\n",
    "\"\"\"\n",
    "# res = op.minimize(......)\n",
    "# Then, the optimal parameters can be accessed with: theta = res.x\n",
    "# ..."
   ]
  },
  {
   "cell_type": "markdown",
   "metadata": {},
   "source": [
    "## Plotting the linear regression model\n",
    "One you get the optimal parameters of $\\theta$, you can call the function `plot_linear_fit(X, y, theta)` defined in the code below to plot the original dataset and the best fit line. Read the code carefully to see how such a line is ploted using the $\\theta$ values. You will get a plot similar to the follwing figure.\n",
    "\n",
    "The best fit line tells us that the model is not a good fit to the data because the data has a non-linear pattern. While visualizing the best fit as shown is one possible way to debug your learning algorithm, it is not always easy to visualize the data and model. In the next section, you will implement a function to generate learning curves that can help you debug your learning algorithm even if it is not easy to visualize the data.\n",
    "\n",
    "<img src=\"imgs/RegLinePlotLab4A.png\" width=\"400px\" />"
   ]
  },
  {
   "cell_type": "code",
   "execution_count": 124,
   "metadata": {},
   "outputs": [
    {
     "data": {
      "text/plain": [
       "' TODO:\\nCall the function plot_linear_fit(X, y, theta) with \\nthe optimal theta parameters that you got previously.\\n'"
      ]
     },
     "execution_count": 124,
     "metadata": {},
     "output_type": "execute_result"
    }
   ],
   "source": [
    "# This is a function that plots the original dataset (X, y) and the best fit line:\n",
    "def plot_linear_fit(X, y, theta):\n",
    "    fig, ax = plt.subplots()\n",
    "    \n",
    "    # Plottin the training data:\n",
    "    ax.scatter(X[:, 0], y, marker=\"x\", color=\"red\")\n",
    "    ax.set_xlabel(\"Change in water level (x)\")\n",
    "    ax.set_ylabel(\"Water flowing out of the dam (y)\")\n",
    "    \n",
    "    # Plotting the line:\n",
    "    x_min, x_max = np.min(X[:, 0]), np.max(X[:, 0])\n",
    "    plot_x = np.arange(x_min, x_max) # range of values for the x axis\n",
    "    plot_y = theta[0] + theta[1] * plot_x\n",
    "    ax.plot(plot_x, plot_y, color=\"green\", label=\"Best fit line\")\n",
    "    \n",
    "    ax.set_title(\"Plot of the training data and best fit line\")\n",
    "    plt.legend()\n",
    "    fig.show()\n",
    "\n",
    "\n",
    "\"\"\" TODO:\n",
    "Call the function plot_linear_fit(X, y, theta) with \n",
    "the optimal theta parameters that you got previously.\n",
    "\"\"\"\n",
    "# ..."
   ]
  },
  {
   "cell_type": "markdown",
   "metadata": {},
   "source": [
    "## Bias-variance\n",
    "An important concept in machine learning is the bias-variance tradeoff. Models with high bias are not complex enough for the data and tend to underfit, while models with high variance overfit to the training data. In this part of the Lab, you will plot training and test errors on a learning curve to diagnose bias-variance problems.\n",
    "\n",
    "You will now implement code to generate the learning curves that will be useful in debugging learning algorithms. Recall that a learning curve plots training and cross validation error as a function of training set size. Your job is to fill in the code below so that it returns a vector of errors for the training set and cross validation set.\n",
    "\n",
    "To plot the learning curve, we need a training and cross validation set error for different training set sizes. To obtain different training set sizes, you should use different subsets of the original training set $X$. Specifically, for a training set size of $i$, you should use the first $i$ examples (i.e., `X[1:i]` and `y[1:i]`).\n",
    "\n",
    "You can use the `scipy.optimize.minimize(..)` function to find the $\\theta$ parameters. After learning the $\\theta$ parameters, you should compute the error on the training and cross validation sets. Recall that the training error for a dataset is defined as:\n",
    "\n",
    "$$E(\\theta) = \\frac{1}{2n} \\sum_{i=1}^{n} ( h_\\theta(x^{(i)}) - y^{(i)} )^2$$\n",
    "\n",
    "In particular, note that the training error does not include the regularization term. One way to compute the training error is to use your existing cost function `E(..)` and set $\\lambda$ to $0$ only when using it to compute the training error and cross validation error. When you are computing the training set error, make sure you compute it on the training subset (i.e., `X[0:i]` and `y[0:i]`) (instead of the entire training set). However, for the cross validation error, you should compute it over the entire cross validation set. You should store the computed errors in the vectors error train and error val.\n",
    "\n",
    "When you are finished, print the learning curves and produce a plot similar to the following figure. From the figure, you can observe that both the train error and cross validation error are quite high even when the number of training examples is increased. This reflects a **high bias** problem in the model - the linear regression model is too simple and is unable to fit our dataset well. In the next section, you will implement polynomial regression to fit a better model for this dataset.\n",
    "\n",
    "<img src=\"imgs/LearningCurvLab4A.png\" width=\"400px\" />"
   ]
  },
  {
   "cell_type": "code",
   "execution_count": 125,
   "metadata": {},
   "outputs": [
    {
     "name": "stderr",
     "output_type": "stream",
     "text": [
      "No artists with labels found to put in legend.  Note that artists whose label start with an underscore are ignored when legend() is called with no argument.\n",
      "C:\\Users\\TobiasPi\\AppData\\Local\\Temp\\ipykernel_21396\\3118729014.py:42: UserWarning: Matplotlib is currently using module://matplotlib_inline.backend_inline, which is a non-GUI backend, so cannot show the figure.\n",
      "  fig.show()\n"
     ]
    },
    {
     "data": {
      "image/png": "[encoded data removed]",
      "text/plain": [
       "<Figure size 432x288 with 1 Axes>"
      ]
     },
     "metadata": {
      "needs_background": "light"
     },
     "output_type": "display_data"
    }
   ],
   "source": [
    "# This function takes some training data, an initial theta and a regularization term \n",
    "# lmd, and returns the optimal prameters vector theta of a linear regression. It uses \n",
    "# scipy.optimize.minimize(..), the cost function E(..) and the gradient gradE(..)\n",
    "def trainLinearReg(X, y, theta_init, lmd):\n",
    "    res = op.minimize(E, theta_init, (X, y, lmd), 'TNC', gradE)\n",
    "    return res.x # the best/final parameters vector theta\n",
    "\n",
    "\n",
    "\"\"\" TODO:\n",
    "Inside a loop which iterates over the range of n (number of training examples), find the optimal theta by \n",
    "calling trainLinearReg(..) using the first i examples (X_new[:i], y[:i]), then compute the corresponding \n",
    "training error err_train (using X_new[:i], y[:i]) and the validation error err_val (using Xval_new, yval) ...\n",
    "\"\"\"\n",
    "errs_train, errs_val = [], [] # Lists to save the training and validation errors\n",
    "for i in range(2, len(y)): # Start from 2 examples at least\n",
    "    pass\n",
    "    # TODO: find the optimal theta parameters using the i first training examples\n",
    "    # ...\n",
    "    \n",
    "    # TODO: compute the training error using the optimal theta and the i first training examples\n",
    "    # ...\n",
    "    \n",
    "    # TODO: compute the validation error using the optimal theta and the validation dataset\n",
    "    # ...\n",
    "\n",
    "\n",
    "\"\"\" TODO:\n",
    "Complete the code below to plot the learning curve\n",
    "\"\"\"\n",
    "fig, ax = plt.subplots()\n",
    "\n",
    "# TODO: plot the \"number of training examples\" vs the training errors\n",
    "# ...\n",
    "\n",
    "# TODO: plot the \"number of training examples\" vs the validation errors\n",
    "# ...\n",
    "\n",
    "ax.set_xlabel(\"Number of training examples\")\n",
    "ax.set_ylabel(\"Error\")\n",
    "ax.set_title(\"Linear regression learning curve\")\n",
    "ax.legend()\n",
    "fig.show()"
   ]
  },
  {
   "cell_type": "markdown",
   "metadata": {},
   "source": [
    "## Polynomial regression\n",
    "The problem with our linear model was that it was too simple for the data and resulted in underfitting (high bias). In this part of the exercise, you will address this problem by adding more features. For using polynomial regression, our hypothesis has the form:\n",
    "$$\n",
    "\\begin{align}\n",
    "h_\\theta(x) &= \\theta_0 + \\theta_1 * (\\text{waterLevel}) + \\theta_2 * (\\text{waterLevel})^2 + \\dots + \\theta_p * (\\text{waterLevel})^p \\\\\n",
    "&= \\theta_0 + \\theta_1 x_1 + \\theta_2 x_2 + \\dots + \\theta_p x_p\n",
    "\\end{align}\n",
    "$$\n",
    "Notice that by defining $x_1 = (\\text{waterLevel}), x_2 = (\\text{waterLevel})^2, \\dots, x_p = (\\text{waterLevel})^p$, we obtain a linear regression model where the features are the various powers of the original value (waterLevel). Note that you don't have to account for the zero'th power in this function.\n",
    "\n",
    "Now, you will add more features using the higher powers of the existing feature $x$ in the dataset. Your task in this part is to complete the following code so that the function `polyFeatures(..)` maps the original training set $X$ of size $n \\times 1$ into its higher powers. Specifically, when a training set $X$ of size $n \\times 1$ is passed into the function, the function should return a $n \\times p$ matrix `X_poly`."
   ]
  },
  {
   "cell_type": "code",
   "execution_count": 126,
   "metadata": {},
   "outputs": [
    {
     "data": {
      "text/plain": [
       "' TODO:\\nYou can call your polyFeatures(...) function here on some exampls to check if it works correctly.\\n'"
      ]
     },
     "execution_count": 126,
     "metadata": {},
     "output_type": "execute_result"
    }
   ],
   "source": [
    "\"\"\" TODO:\n",
    "Write the definition of the function polyFeatures(X, p) which takes \n",
    "as arguement the original training set X and the degree of the polynomial p. \n",
    "The function should return a new set X_poly of p features (i.e. matrix of len(X) rows and p columns).\n",
    "\"\"\"\n",
    "def polyFeatures(X, p):\n",
    "    ...\n",
    "    return ...\n",
    "\n",
    "\"\"\" TODO:\n",
    "You can call your polyFeatures(...) function here on some exampls to check if it works correctly.\n",
    "\"\"\"\n",
    "# ..."
   ]
  },
  {
   "cell_type": "markdown",
   "metadata": {},
   "source": [
    "After you have completed the function `polyFeatures`, we will proceed to train polynomial regression using your linear regression cost function. Keep in mind that even though we have polynomial terms in our feature vector, we are still solving a linear regression optimization problem. The polynomial terms have simply turned into features that we can use for linear regression. We are using the same cost function and gradient that you wrote for the earlier part of this Lab.\n",
    "\n",
    "In the Python code below, we are using a polynomial of degree 8. The function `polyFeatures(..)` is therefore applied with $p=8$ to the training set `X`, the validation set `Xval` and the test set `Xtest`, to get the corresponding projected data `X_poly`, `Xval_poly` and `Xtest_poly`.\n",
    "\n",
    "It turns out that if we run the training directly on the projected data `X_poly`, it will not work well as the features would be badly scaled (e.g., an example with $x_1 = 40$ will have a feature $x_8 = 40^8$). Therefore, we need to use feature normalization. In the following Python code, we first normalize the features of the training set and add to it an additional first column of ones to get `X_poly_normalized`. The parameters used for normalization are stored in variables `mu` and `sigma`. Then, we train the linear regression model (i.e. find the optimal parameters vector $\\theta$) by calling the function `trainLinearReg(..)` using our new training set `X_poly_normalized`, `y`, an initial $\\theta$ vector of dimension $p+1$ (as we have $p$ features now), and a value of $\\lambda$ set to $0$ for now (no regularization). Then, we plot two figures which looks like follows. From the first figure, you should see that the polynomial fit is able to follow the data-points very well - thus, obtaining a low training error. However, the polynomial fit is very complex and even drops off at the extremes. This is an indicator that the polynomial regression model is overfitting the training data and will not generalize well. To better understand the problems with the unregularized ($\\lambda = 0$) model, you can see from the second figure that the learning curve shows the same effect where the training error is low, but the validation error is high. There is a gap between the training and cross validation errors, indicating a high variance problem.\n",
    "\n",
    "We have already implemented all this for you. You just need to read the code and then run it.\n",
    "\n",
    "<img src=\"imgs/Lab4APolyPlotLmd0.png\" width=\"600px\" />"
   ]
  },
  {
   "cell_type": "code",
   "execution_count": 127,
   "metadata": {
    "scrolled": false
   },
   "outputs": [
    {
     "ename": "AxisError",
     "evalue": "axis 0 is out of bounds for array of dimension 0",
     "output_type": "error",
     "traceback": [
      "\u001b[1;31m---------------------------------------------------------------------------\u001b[0m",
      "\u001b[1;31mAxisError\u001b[0m                                 Traceback (most recent call last)",
      "\u001b[1;32mc:\\Users\\TobiasPi\\Repos\\Privat\\ML labbar\\Lab 4 and 5 - Generalization\\Lab 5 - Part A - Regularized Linear Regression.ipynb Cell 22'\u001b[0m in \u001b[0;36m<module>\u001b[1;34m\u001b[0m\n\u001b[0;32m      <a href='vscode-notebook-cell:/c%3A/Users/TobiasPi/Repos/Privat/ML%20labbar/Lab%204%20and%205%20-%20Generalization/Lab%205%20-%20Part%20A%20-%20Regularized%20Linear%20Regression.ipynb#ch0000019?line=7'>8</a>\u001b[0m Xtest_poly \u001b[39m=\u001b[39m polyFeatures(Xtest, p) \u001b[39m# on the test set\u001b[39;00m\n\u001b[0;32m     <a href='vscode-notebook-cell:/c%3A/Users/TobiasPi/Repos/Privat/ML%20labbar/Lab%204%20and%205%20-%20Generalization/Lab%205%20-%20Part%20A%20-%20Regularized%20Linear%20Regression.ipynb#ch0000019?line=9'>10</a>\u001b[0m \u001b[39m# mean vector and standard deviation vector\u001b[39;00m\n\u001b[1;32m---> <a href='vscode-notebook-cell:/c%3A/Users/TobiasPi/Repos/Privat/ML%20labbar/Lab%204%20and%205%20-%20Generalization/Lab%205%20-%20Part%20A%20-%20Regularized%20Linear%20Regression.ipynb#ch0000019?line=10'>11</a>\u001b[0m mu \u001b[39m=\u001b[39m np\u001b[39m.\u001b[39;49mmean(X_poly, axis\u001b[39m=\u001b[39;49m\u001b[39m0\u001b[39;49m)\n\u001b[0;32m     <a href='vscode-notebook-cell:/c%3A/Users/TobiasPi/Repos/Privat/ML%20labbar/Lab%204%20and%205%20-%20Generalization/Lab%205%20-%20Part%20A%20-%20Regularized%20Linear%20Regression.ipynb#ch0000019?line=11'>12</a>\u001b[0m sigma \u001b[39m=\u001b[39m np\u001b[39m.\u001b[39mstd(X_poly, axis\u001b[39m=\u001b[39m\u001b[39m0\u001b[39m)\n\u001b[0;32m     <a href='vscode-notebook-cell:/c%3A/Users/TobiasPi/Repos/Privat/ML%20labbar/Lab%204%20and%205%20-%20Generalization/Lab%205%20-%20Part%20A%20-%20Regularized%20Linear%20Regression.ipynb#ch0000019?line=13'>14</a>\u001b[0m \u001b[39m# normalizing the training set and validation set using mu and sigma and adding an aditional first column of ones\u001b[39;00m\n",
      "File \u001b[1;32m<__array_function__ internals>:180\u001b[0m, in \u001b[0;36mmean\u001b[1;34m(*args, **kwargs)\u001b[0m\n",
      "File \u001b[1;32m~\\AppData\\Local\\Programs\\Python\\Python39\\lib\\site-packages\\numpy\\core\\fromnumeric.py:3474\u001b[0m, in \u001b[0;36mmean\u001b[1;34m(a, axis, dtype, out, keepdims, where)\u001b[0m\n\u001b[0;32m   <a href='file:///~/AppData/Local/Programs/Python/Python39/lib/site-packages/numpy/core/fromnumeric.py?line=3470'>3471</a>\u001b[0m     \u001b[39melse\u001b[39;00m:\n\u001b[0;32m   <a href='file:///~/AppData/Local/Programs/Python/Python39/lib/site-packages/numpy/core/fromnumeric.py?line=3471'>3472</a>\u001b[0m         \u001b[39mreturn\u001b[39;00m mean(axis\u001b[39m=\u001b[39maxis, dtype\u001b[39m=\u001b[39mdtype, out\u001b[39m=\u001b[39mout, \u001b[39m*\u001b[39m\u001b[39m*\u001b[39mkwargs)\n\u001b[1;32m-> <a href='file:///~/AppData/Local/Programs/Python/Python39/lib/site-packages/numpy/core/fromnumeric.py?line=3473'>3474</a>\u001b[0m \u001b[39mreturn\u001b[39;00m _methods\u001b[39m.\u001b[39m_mean(a, axis\u001b[39m=\u001b[39maxis, dtype\u001b[39m=\u001b[39mdtype,\n\u001b[0;32m   <a href='file:///~/AppData/Local/Programs/Python/Python39/lib/site-packages/numpy/core/fromnumeric.py?line=3474'>3475</a>\u001b[0m                       out\u001b[39m=\u001b[39mout, \u001b[39m*\u001b[39m\u001b[39m*\u001b[39mkwargs)\n",
      "File \u001b[1;32m~\\AppData\\Local\\Programs\\Python\\Python39\\lib\\site-packages\\numpy\\core\\_methods.py:167\u001b[0m, in \u001b[0;36m_mean\u001b[1;34m(a, axis, dtype, out, keepdims, where)\u001b[0m\n\u001b[0;32m    <a href='file:///~/AppData/Local/Programs/Python/Python39/lib/site-packages/numpy/core/_methods.py?line=162'>163</a>\u001b[0m arr \u001b[39m=\u001b[39m asanyarray(a)\n\u001b[0;32m    <a href='file:///~/AppData/Local/Programs/Python/Python39/lib/site-packages/numpy/core/_methods.py?line=164'>165</a>\u001b[0m is_float16_result \u001b[39m=\u001b[39m \u001b[39mFalse\u001b[39;00m\n\u001b[1;32m--> <a href='file:///~/AppData/Local/Programs/Python/Python39/lib/site-packages/numpy/core/_methods.py?line=166'>167</a>\u001b[0m rcount \u001b[39m=\u001b[39m _count_reduce_items(arr, axis, keepdims\u001b[39m=\u001b[39;49mkeepdims, where\u001b[39m=\u001b[39;49mwhere)\n\u001b[0;32m    <a href='file:///~/AppData/Local/Programs/Python/Python39/lib/site-packages/numpy/core/_methods.py?line=167'>168</a>\u001b[0m \u001b[39mif\u001b[39;00m rcount \u001b[39m==\u001b[39m \u001b[39m0\u001b[39m \u001b[39mif\u001b[39;00m where \u001b[39mis\u001b[39;00m \u001b[39mTrue\u001b[39;00m \u001b[39melse\u001b[39;00m umr_any(rcount \u001b[39m==\u001b[39m \u001b[39m0\u001b[39m, axis\u001b[39m=\u001b[39m\u001b[39mNone\u001b[39;00m):\n\u001b[0;32m    <a href='file:///~/AppData/Local/Programs/Python/Python39/lib/site-packages/numpy/core/_methods.py?line=168'>169</a>\u001b[0m     warnings\u001b[39m.\u001b[39mwarn(\u001b[39m\"\u001b[39m\u001b[39mMean of empty slice.\u001b[39m\u001b[39m\"\u001b[39m, \u001b[39mRuntimeWarning\u001b[39;00m, stacklevel\u001b[39m=\u001b[39m\u001b[39m2\u001b[39m)\n",
      "File \u001b[1;32m~\\AppData\\Local\\Programs\\Python\\Python39\\lib\\site-packages\\numpy\\core\\_methods.py:76\u001b[0m, in \u001b[0;36m_count_reduce_items\u001b[1;34m(arr, axis, keepdims, where)\u001b[0m\n\u001b[0;32m     <a href='file:///~/AppData/Local/Programs/Python/Python39/lib/site-packages/numpy/core/_methods.py?line=73'>74</a>\u001b[0m     items \u001b[39m=\u001b[39m nt\u001b[39m.\u001b[39mintp(\u001b[39m1\u001b[39m)\n\u001b[0;32m     <a href='file:///~/AppData/Local/Programs/Python/Python39/lib/site-packages/numpy/core/_methods.py?line=74'>75</a>\u001b[0m     \u001b[39mfor\u001b[39;00m ax \u001b[39min\u001b[39;00m axis:\n\u001b[1;32m---> <a href='file:///~/AppData/Local/Programs/Python/Python39/lib/site-packages/numpy/core/_methods.py?line=75'>76</a>\u001b[0m         items \u001b[39m*\u001b[39m\u001b[39m=\u001b[39m arr\u001b[39m.\u001b[39mshape[mu\u001b[39m.\u001b[39;49mnormalize_axis_index(ax, arr\u001b[39m.\u001b[39;49mndim)]\n\u001b[0;32m     <a href='file:///~/AppData/Local/Programs/Python/Python39/lib/site-packages/numpy/core/_methods.py?line=76'>77</a>\u001b[0m \u001b[39melse\u001b[39;00m:\n\u001b[0;32m     <a href='file:///~/AppData/Local/Programs/Python/Python39/lib/site-packages/numpy/core/_methods.py?line=77'>78</a>\u001b[0m     \u001b[39m# TODO: Optimize case when `where` is broadcast along a non-reduction\u001b[39;00m\n\u001b[0;32m     <a href='file:///~/AppData/Local/Programs/Python/Python39/lib/site-packages/numpy/core/_methods.py?line=78'>79</a>\u001b[0m     \u001b[39m# axis and full sum is more excessive than needed.\u001b[39;00m\n\u001b[0;32m     <a href='file:///~/AppData/Local/Programs/Python/Python39/lib/site-packages/numpy/core/_methods.py?line=79'>80</a>\u001b[0m \n\u001b[0;32m     <a href='file:///~/AppData/Local/Programs/Python/Python39/lib/site-packages/numpy/core/_methods.py?line=80'>81</a>\u001b[0m     \u001b[39m# guarded to protect circular imports\u001b[39;00m\n\u001b[0;32m     <a href='file:///~/AppData/Local/Programs/Python/Python39/lib/site-packages/numpy/core/_methods.py?line=81'>82</a>\u001b[0m     \u001b[39mfrom\u001b[39;00m \u001b[39mnumpy\u001b[39;00m\u001b[39m.\u001b[39;00m\u001b[39mlib\u001b[39;00m\u001b[39m.\u001b[39;00m\u001b[39mstride_tricks\u001b[39;00m \u001b[39mimport\u001b[39;00m broadcast_to\n",
      "\u001b[1;31mAxisError\u001b[0m: axis 0 is out of bounds for array of dimension 0"
     ]
    }
   ],
   "source": [
    "# The regularization parameter lmd\n",
    "lmd = 0.0\n",
    "\n",
    "# Using polyFeatures(..) with p=8 to map the original data to a higher dimension\n",
    "p = 8\n",
    "X_poly = polyFeatures(X, p) # on the training set\n",
    "Xval_poly = polyFeatures(Xval, p) # on the validation set\n",
    "Xtest_poly = polyFeatures(Xtest, p) # on the test set\n",
    "\n",
    "# mean vector and standard deviation vector\n",
    "mu = np.mean(X_poly, axis=0)\n",
    "sigma = np.std(X_poly, axis=0)\n",
    "\n",
    "# normalizing the training set and validation set using mu and sigma and adding an aditional first column of ones\n",
    "X_poly_normalized = add_all_ones_column((X_poly - mu) / sigma)\n",
    "Xval_poly_normalized = add_all_ones_column((Xval_poly - mu) / sigma)\n",
    "\n",
    "# Training to find the optimal parameters vector theta\n",
    "theta_init = np.zeros(p+1) # we p features, so we need p+1 parameters (as we have theta_0)\n",
    "theta = trainLinearReg(X_poly_normalized, y, theta_init, lmd)\n",
    "\n",
    "# Plotting the dataset and the polynomial regression curve\n",
    "fig, (ax1, ax2) = plt.subplots(1, 2, figsize=(10, 5))\n",
    "ax1.set_xlabel(\"Change in water level (x)\")\n",
    "ax1.set_ylabel(\"Water flowing out of the dam (y)\")\n",
    "ax1.set_title(r\"Polynomial Regression Fit ($\\lambda = {}$)\".format(lmd))\n",
    "\n",
    "ax2.set_xlabel(\"Number of training examples\")\n",
    "ax2.set_ylabel(\"Error\")\n",
    "ax2.set_title(r\"Polynomial Regression Learning Curve ($\\lambda = {}$)\".format(lmd))\n",
    "\n",
    "x_plot = np.linspace(-60, 40, 100)\n",
    "x_plot_poly = polyFeatures(x_plot.reshape(len(x_plot), 1), p)\n",
    "x_plot_poly_normalized = add_all_ones_column((x_plot_poly - mu) / sigma)\n",
    "y_plot = x_plot_poly_normalized @ theta\n",
    "ax1.plot(x_plot, y_plot, linestyle=\"--\", color=\"green\", label=\"Polynomial fit\")\n",
    "ax1.scatter(X[:, 0], y, marker=\"x\", color=\"red\", label = \"Training examples\")\n",
    "\n",
    "# Plotting the learning curves using the training and validation sets\n",
    "errs_train, errs_val = [], []\n",
    "for i in range(2, len(y)):\n",
    "    theta = trainLinearReg(X_poly_normalized[:i], y[:i], theta_init, lmd)\n",
    "    errs_train.append( E(theta, X_poly_normalized[:i], y[:i], 0) )\n",
    "    errs_val.append( E(theta, Xval_poly_normalized, yval, 0) )\n",
    "    \n",
    "ax2.plot(range(2, len(y)), errs_train, label=\"Training error\")\n",
    "ax2.plot(range(2, len(y)), errs_val, label=\"Validation error\")\n",
    "\n",
    "ax1.legend()\n",
    "ax2.legend()\n",
    "plt.show()"
   ]
  },
  {
   "cell_type": "markdown",
   "metadata": {},
   "source": [
    "## Adjusting the regularization parameter $\\lambda$\n",
    "In this section, you will get to observe how the regularization parameter affects the bias-variance of regularized polynomial regression. You should now modify the $\\lambda$ parameter (i.e. variable `lmd`) in previous code and try $\\lambda = 1$ and $\\lambda = 50$ (you could also try with other values of $\\lambda$). For each of these values, the above code should generate two figures (the polynomial fit to the data and the learning curve).\n",
    "\n",
    "For $\\lambda = 1$, you should see a polynomial fit that follows the data trend well and a learning curve showing that both the validation and training error converge to a relatively low value. This shows the $\\lambda = 1$ regularized polynomial regression model does not have the high-bias or high-variance problems. In fact, it achieves a good trade-off between bias and variance. For $\\lambda = 50$, you should see a polynomial fit that does not follow the data well. In this case, there is too much regularization and the model is unable to fit the training data.\n",
    "\n",
    "## Selecting $\\lambda$ using the validation set\n",
    "From the previous section, you observed that the value of $\\lambda$ can significantly affect the results of regularized polynomial regression on the training and cross validation set. In particular, a model without regularization ($\\lambda = 0$) fits the training set well, but does not generalize. Conversely, a model with too much regularization (e.g. $\\lambda = 50$) does not fit the data well. A good choice of $\\lambda$ (e.g., $\\lambda = 1$ for this dataset) can provide a good fit to the data.\n",
    "\n",
    "In this section, you will implement an automated method to select the $\\lambda$ parameter. Concretely, you will use a cross validation set to evaluate how good each $\\lambda$ value is. After selecting the best $\\lambda$ value using the validation set, we can then evaluate the model on the test set to estimate how well the model will perform on actual unseen data.\n",
    "\n",
    "Your task is to complete the code below. Specifically, you should use the `trainLinearReg(..)` function to train the model using different values of $\\lambda$ and compute the training error and validation error. You should try $\\lambda$ in the following range: `[0, 0.003, 0.01, 0.03, 0.1, 0.3, 1, 3, 10]`. You should also plot a curve that shows the validation error and training error with respect to the different values of $\\lambda$. You should see a plot similar to the following figure, which allows you to select which $\\lambda$ parameter to use. In this figure, we can see that the best value of $\\lambda$ is around $3$ (as it gives the smallest validation error).\n",
    "\n",
    "<img src=\"imgs/Lab4AerrVSlambda.png\" width=\"400px\" />\n",
    "\n",
    "*Note:* Due to randomness in the training and validation splits of the dataset, the cross validation error can sometimes be lower than the training error."
   ]
  },
  {
   "cell_type": "code",
   "execution_count": null,
   "metadata": {},
   "outputs": [],
   "source": [
    "lmd_range = [0, 0.003, 0.01, 0.03, 0.1, 0.3, 1, 3, 10]\n",
    "errs_train, errs_val = [], []\n",
    "\n",
    "\"\"\" TODO:\n",
    "For each value of lmd you should call trainLinearReg(..) to train a model using the training set \n",
    "X_poly_normalized, y, then compute the training error (on the training set: X_poly_normalized, y) \n",
    "and the validation error (on the validation set: Xval_poly_normalized, yval).\n",
    "\"\"\"\n",
    "for lmd in lmd_range:\n",
    "    pass\n",
    "    # TODO ...\n",
    "    # TODO ...\n",
    "    # TODO ...\n",
    "\n",
    "\n",
    "\"\"\" TODO:\n",
    "Plot a curve that shows the validation error and training error with respect to lambda\n",
    "\"\"\"\n",
    "fig, ax = plt.subplots()\n",
    "\n",
    "# Plot of the training errors vs lambda values\n",
    "# ...\n",
    "# Plot of the validation errors vs lambda values\n",
    "# ...\n",
    "\n",
    "ax.set_xlabel(\"lambda\")\n",
    "ax.set_ylabel(\"Error\")\n",
    "ax.legend()\n",
    "fig.show()\n"
   ]
  },
  {
   "cell_type": "markdown",
   "metadata": {},
   "source": [
    "## Computing test set error\n",
    "In the previous section, you implemented code to compute the validation error for various values of the regularization parameter $\\theta$. However, to get a better indication of the model's performance in the real world, it is important to evaluate the \"*final*\" model on a test set that was not used in any part of training (that is, it was neither used to select the regularization parameter $\\lambda$, nor to learn the model parameters $\\theta$).\n",
    "\n",
    "In the code below, you should compute the test error using the best value of $\\theta$ you found (using $\\lambda = 3$)."
   ]
  },
  {
   "cell_type": "code",
   "execution_count": null,
   "metadata": {},
   "outputs": [],
   "source": [
    "\"\"\" TODO:\n",
    "Find the best parameters vector theta by training the polynomial regression \n",
    "model using lambda = 3. Then compute the error on the test set.\n",
    "Note: don't forget to normalize the test set before.\n",
    "\"\"\"\n",
    "# ...\n",
    "# ...\n",
    "# ...\n",
    "# err_test = ...\n",
    "# print(\"err_test =\", err_test)"
   ]
  },
  {
   "cell_type": "markdown",
   "metadata": {},
   "source": [
    "## (OPTIONAL) Performing a 10-fold-cross-validation\n",
    "\n",
    "This section is optional.\n",
    "\n",
    "Combine the training and validation sets into one set `Xall`, `yall`. Note: in Python you can combine two datasets A and B (two numpy arrays) into one dataset using `AB = np.append(A, B, axis=0)`.\n",
    "\n",
    "Implement 10-fold-cross-validation to evaluate to find the best value for the hyperparameter $\\lambda$. This will be the value that gives you the best generalization error.\n",
    "\n",
    "Finally, use this best value of $\\lambda$ to train a model on the whole dataset `Xall`, `yall`, and then test this model on the test dataset `Xtest`, `ytest` and compute the test error."
   ]
  },
  {
   "cell_type": "code",
   "execution_count": null,
   "metadata": {},
   "outputs": [],
   "source": [
    "\"\"\" TODO\n",
    "Plot the learning curves based on randomly selected examples as described above.\n",
    "\"\"\"\n",
    "# Combine X with Xval\n",
    "# Combine y with yval\n",
    "# Perform a 10-fold-cross-validation to find the best value for the hyperparameter lambda"
   ]
  }
 ],
 "metadata": {
  "kernelspec": {
   "display_name": "Python 3",
   "language": "python",
   "name": "python3"
  },
  "language_info": {
   "codemirror_mode": {
    "name": "ipython",
    "version": 3
   },
   "file_extension": ".py",
   "mimetype": "text/x-python",
   "name": "python",
   "nbconvert_exporter": "python",
   "pygments_lexer": "ipython3",
   "version": "3.9.6"
  }
 },
 "nbformat": 4,
 "nbformat_minor": 2
}
